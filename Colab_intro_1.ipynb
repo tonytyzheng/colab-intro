{
  "nbformat": 4,
  "nbformat_minor": 0,
  "metadata": {
    "colab": {
      "name": "Colab intro 1",
      "version": "0.3.2",
      "provenance": [],
      "collapsed_sections": [],
      "include_colab_link": true
    },
    "kernelspec": {
      "name": "python3",
      "display_name": "Python 3"
    }
  },
  "cells": [
    {
      "cell_type": "markdown",
      "metadata": {
        "id": "view-in-github",
        "colab_type": "text"
      },
      "source": [
        "<a href=\"https://colab.research.google.com/github/tonytyzheng/colab-intro/blob/2nd-branch/Colab_intro_1.ipynb\" target=\"_parent\"><img src=\"https://colab.research.google.com/assets/colab-badge.svg\" alt=\"Open In Colab\"/></a>"
      ]
    },
    {
      "metadata": {
        "id": "iazKdqIxvUPC",
        "colab_type": "code",
        "colab": {
          "base_uri": "https://localhost:8080/",
          "height": 34
        },
        "outputId": "09124785-139f-4728-db44-9a63ada83e38"
      },
      "cell_type": "code",
      "source": [
        "\"\"\"\n",
        "Mounting Google Drive for drive data access:\n",
        "from google.colab import drive\n",
        "drive.mount('/content/gdrive')\n",
        "\"\"\"\n",
        "\n",
        "# TZ Note: For the branch update on Github test\n",
        "\n",
        "from keras.models import Sequential\n",
        "from keras.layers import Dense, BatchNormalization, Activation, Dropout\n",
        "\n",
        "import numpy as np\n",
        "np.random.seed(7)"
      ],
      "execution_count": 1,
      "outputs": [
        {
          "output_type": "stream",
          "text": [
            "Using TensorFlow backend.\n"
          ],
          "name": "stderr"
        }
      ]
    },
    {
      "metadata": {
        "id": "vlRYTj7fXI5C",
        "colab_type": "code",
        "colab": {
          "base_uri": "https://localhost:8080/",
          "height": 34
        },
        "cellView": "both",
        "outputId": "b6d61e4d-0254-41cd-aff4-e51455b49388"
      },
      "cell_type": "code",
      "source": [
        "dataset = np.loadtxt(\"gdrive/My Drive/TZ Colab/Colab Intro 1/pima-indians-diabetes.csv\", delimiter=\",\")\n",
        "print(\"Dataset shape: \" + str(dataset.shape))\n",
        "# print(dataset)\n",
        "X = np.array(dataset[:, 0:8])\n",
        "Y = np.array(dataset[:, 8])\n",
        "X = np.reshape(X, (X.shape[0], 8))\n",
        "Y = np.reshape(Y, (Y.shape[0], 1))"
      ],
      "execution_count": 2,
      "outputs": [
        {
          "output_type": "stream",
          "text": [
            "Dataset shape: (768, 9)\n"
          ],
          "name": "stdout"
        }
      ]
    },
    {
      "metadata": {
        "id": "fOe7jlW1Xf92",
        "colab_type": "code",
        "colab": {
          "base_uri": "https://localhost:8080/",
          "height": 84
        },
        "outputId": "20890468-b96f-4b5d-f43f-08bcd2160500"
      },
      "cell_type": "code",
      "source": [
        "train_test_split = int(X.shape[0] * 0.9)\n",
        "X_train = X[0: train_test_split, :]\n",
        "X_test = X[train_test_split:, :]\n",
        "Y_train = Y[0: train_test_split, :]\n",
        "Y_test = Y[train_test_split:, :]\n",
        "\n",
        "print(\"X_train shape: \" + str(X_train.shape))\n",
        "print(\"Y_train shape: \" + str(Y_train.shape))\n",
        "print(\"X_test shape: \" + str(X_test.shape))\n",
        "print(\"Y_test shape: \" + str(Y_test.shape))\n",
        "# print(Y_test)"
      ],
      "execution_count": 3,
      "outputs": [
        {
          "output_type": "stream",
          "text": [
            "X_train shape: (691, 8)\n",
            "Y_train shape: (691, 1)\n",
            "X_test shape: (77, 8)\n",
            "Y_test shape: (77, 1)\n"
          ],
          "name": "stdout"
        }
      ]
    },
    {
      "metadata": {
        "id": "14eDSbd4dK5O",
        "colab_type": "code",
        "colab": {
          "base_uri": "https://localhost:8080/",
          "height": 470
        },
        "outputId": "45c95fc0-64ed-4231-d146-b4cdb876213a"
      },
      "cell_type": "code",
      "source": [
        "# Build model\n",
        "model = Sequential()\n",
        "\n",
        "model.add(Dense(12, input_dim =8, activation=None))\n",
        "model.add(BatchNormalization(axis=-1))\n",
        "model.add(Activation('relu'))\n",
        "model.add(Dropout(0.7))\n",
        "\n",
        "model.add(Dense(8, activation=None))\n",
        "model.add(BatchNormalization(axis=-1))\n",
        "model.add(Activation('relu'))\n",
        "model.add(Dropout(0.7))\n",
        "\n",
        "model.add(Dense(1, activation = 'sigmoid'))\n",
        "\n",
        "# Compile model\n",
        "model.compile(loss='binary_crossentropy', optimizer='adam', metrics=['accuracy'])\n",
        "\n",
        "# Model summary\n",
        "print(model.summary())\n",
        "\n",
        "# Train model\n",
        "model.fit(X_train, Y_train, validation_data=(X_test, Y_test), epochs=1000,\n",
        "          batch_size=8, verbose=0)"
      ],
      "execution_count": 4,
      "outputs": [
        {
          "output_type": "stream",
          "text": [
            "_________________________________________________________________\n",
            "Layer (type)                 Output Shape              Param #   \n",
            "=================================================================\n",
            "dense_1 (Dense)              (None, 12)                108       \n",
            "_________________________________________________________________\n",
            "batch_normalization_1 (Batch (None, 12)                48        \n",
            "_________________________________________________________________\n",
            "activation_1 (Activation)    (None, 12)                0         \n",
            "_________________________________________________________________\n",
            "dropout_1 (Dropout)          (None, 12)                0         \n",
            "_________________________________________________________________\n",
            "dense_2 (Dense)              (None, 8)                 104       \n",
            "_________________________________________________________________\n",
            "batch_normalization_2 (Batch (None, 8)                 32        \n",
            "_________________________________________________________________\n",
            "activation_2 (Activation)    (None, 8)                 0         \n",
            "_________________________________________________________________\n",
            "dropout_2 (Dropout)          (None, 8)                 0         \n",
            "_________________________________________________________________\n",
            "dense_3 (Dense)              (None, 1)                 9         \n",
            "=================================================================\n",
            "Total params: 301\n",
            "Trainable params: 261\n",
            "Non-trainable params: 40\n",
            "_________________________________________________________________\n",
            "None\n"
          ],
          "name": "stdout"
        },
        {
          "output_type": "execute_result",
          "data": {
            "text/plain": [
              "<keras.callbacks.History at 0x7faee9312fd0>"
            ]
          },
          "metadata": {
            "tags": []
          },
          "execution_count": 4
        }
      ]
    },
    {
      "metadata": {
        "id": "XgQYu24Uf1YF",
        "colab_type": "code",
        "colab": {
          "base_uri": "https://localhost:8080/",
          "height": 67
        },
        "outputId": "5b0a3e8e-6f65-45ee-b9f8-4f046060077b"
      },
      "cell_type": "code",
      "source": [
        "# Evaluate model\n",
        "scores = model.evaluate(X_test, Y_test)\n",
        "print(\"\\n%s: %.2f%%\" % (model.metrics_names[1], scores[1]*100))"
      ],
      "execution_count": 5,
      "outputs": [
        {
          "output_type": "stream",
          "text": [
            "77/77 [==============================] - 0s 156us/step\n",
            "\n",
            "acc: 74.03%\n"
          ],
          "name": "stdout"
        }
      ]
    }
  ]
}