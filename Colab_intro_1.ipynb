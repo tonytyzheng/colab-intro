{
  "nbformat": 4,
  "nbformat_minor": 0,
  "metadata": {
    "colab": {
      "name": "Colab intro 1",
      "version": "0.3.2",
      "provenance": [],
      "collapsed_sections": [],
      "include_colab_link": true
    },
    "kernelspec": {
      "name": "python3",
      "display_name": "Python 3"
    }
  },
  "cells": [
    {
      "cell_type": "markdown",
      "metadata": {
        "id": "view-in-github",
        "colab_type": "text"
      },
      "source": [
        "<a href=\"https://colab.research.google.com/github/tonytyzheng/colab-intro/blob/master/Colab_intro_1.ipynb\" target=\"_parent\"><img src=\"https://colab.research.google.com/assets/colab-badge.svg\" alt=\"Open In Colab\"/></a>"
      ]
    },
    {
      "metadata": {
        "id": "iazKdqIxvUPC",
        "colab_type": "code",
        "colab": {
          "base_uri": "https://localhost:8080/",
          "height": 34
        },
        "outputId": "5c07583c-cb3c-4e9f-abeb-cb1dc3d7681c"
      },
      "cell_type": "code",
      "source": [
        "\"\"\"\n",
        "Mounting Google Drive for drive data access:\n",
        "from google.colab import drive\n",
        "drive.mount('/content/gdrive')\n",
        "\"\"\"\n",
        "\n",
        "from keras.models import Sequential\n",
        "from keras.layers import Dense, BatchNormalization, Activation, Dropout\n",
        "\n",
        "import numpy as np\n",
        "np.random.seed(7)"
      ],
      "execution_count": 1,
      "outputs": [
        {
          "output_type": "stream",
          "text": [
            "Using TensorFlow backend.\n"
          ],
          "name": "stderr"
        }
      ]
    },
    {
      "metadata": {
        "id": "vlRYTj7fXI5C",
        "colab_type": "code",
        "colab": {
          "base_uri": "https://localhost:8080/",
          "height": 34
        },
        "cellView": "both",
        "outputId": "513fc86f-6b7c-426f-c063-c1d41d4ef05c"
      },
      "cell_type": "code",
      "source": [
        "dataset = np.loadtxt(\"gdrive/My Drive/TZ Colab/Colab Intro 1/pima-indians-diabetes.csv\", delimiter=\",\")\n",
        "print(\"Dataset shape: \" + str(dataset.shape))\n",
        "# print(dataset)\n",
        "X = np.array(dataset[:, 0:8])\n",
        "Y = np.array(dataset[:, 8])\n",
        "X = np.reshape(X, (X.shape[0], 8))\n",
        "Y = np.reshape(Y, (Y.shape[0], 1))"
      ],
      "execution_count": 2,
      "outputs": [
        {
          "output_type": "stream",
          "text": [
            "Dataset shape: (768, 9)\n"
          ],
          "name": "stdout"
        }
      ]
    },
    {
      "metadata": {
        "id": "fOe7jlW1Xf92",
        "colab_type": "code",
        "colab": {
          "base_uri": "https://localhost:8080/",
          "height": 84
        },
        "outputId": "e4b1bd96-ed59-4235-a022-758839864f23"
      },
      "cell_type": "code",
      "source": [
        "train_test_split = int(X.shape[0] * 0.9)\n",
        "X_train = X[0: train_test_split, :]\n",
        "X_test = X[train_test_split:, :]\n",
        "Y_train = Y[0: train_test_split, :]\n",
        "Y_test = Y[train_test_split:, :]\n",
        "\n",
        "print(\"X_train shape: \" + str(X_train.shape))\n",
        "print(\"Y_train shape: \" + str(Y_train.shape))\n",
        "print(\"X_test shape: \" + str(X_test.shape))\n",
        "print(\"Y_test shape: \" + str(Y_test.shape))\n",
        "# print(Y_test)"
      ],
      "execution_count": 3,
      "outputs": [
        {
          "output_type": "stream",
          "text": [
            "X_train shape: (691, 8)\n",
            "Y_train shape: (691, 1)\n",
            "X_test shape: (77, 8)\n",
            "Y_test shape: (77, 1)\n"
          ],
          "name": "stdout"
        }
      ]
    },
    {
      "metadata": {
        "id": "14eDSbd4dK5O",
        "colab_type": "code",
        "colab": {
          "base_uri": "https://localhost:8080/",
          "height": 470
        },
        "outputId": "a3ac9248-ab0b-4ed3-98f2-13877219ad6c"
      },
      "cell_type": "code",
      "source": [
        "# Build model\n",
        "model = Sequential()\n",
        "\n",
        "model.add(Dense(8, input_dim =8, activation=None))\n",
        "model.add(BatchNormalization(axis=-1))\n",
        "model.add(Activation('relu'))\n",
        "model.add(Dropout(0.7))\n",
        "\n",
        "model.add(Dense(8, activation=None))\n",
        "model.add(BatchNormalization(axis=-1))\n",
        "model.add(Activation('relu'))\n",
        "model.add(Dropout(0.7))\n",
        "\n",
        "model.add(Dense(1, activation = 'sigmoid'))\n",
        "\n",
        "# Compile model\n",
        "model.compile(loss='binary_crossentropy', optimizer='adam', metrics=['accuracy'])\n",
        "\n",
        "# Model summary\n",
        "print(model.summary())\n",
        "\n",
        "# Train model\n",
        "model.fit(X_train, Y_train, validation_data=(X_test, Y_test), epochs=1000,\n",
        "          batch_size=8, verbose=0)"
      ],
      "execution_count": 4,
      "outputs": [
        {
          "output_type": "stream",
          "text": [
            "_________________________________________________________________\n",
            "Layer (type)                 Output Shape              Param #   \n",
            "=================================================================\n",
            "dense_1 (Dense)              (None, 8)                 72        \n",
            "_________________________________________________________________\n",
            "batch_normalization_1 (Batch (None, 8)                 32        \n",
            "_________________________________________________________________\n",
            "activation_1 (Activation)    (None, 8)                 0         \n",
            "_________________________________________________________________\n",
            "dropout_1 (Dropout)          (None, 8)                 0         \n",
            "_________________________________________________________________\n",
            "dense_2 (Dense)              (None, 8)                 72        \n",
            "_________________________________________________________________\n",
            "batch_normalization_2 (Batch (None, 8)                 32        \n",
            "_________________________________________________________________\n",
            "activation_2 (Activation)    (None, 8)                 0         \n",
            "_________________________________________________________________\n",
            "dropout_2 (Dropout)          (None, 8)                 0         \n",
            "_________________________________________________________________\n",
            "dense_3 (Dense)              (None, 1)                 9         \n",
            "=================================================================\n",
            "Total params: 217\n",
            "Trainable params: 185\n",
            "Non-trainable params: 32\n",
            "_________________________________________________________________\n",
            "None\n"
          ],
          "name": "stdout"
        },
        {
          "output_type": "execute_result",
          "data": {
            "text/plain": [
              "<keras.callbacks.History at 0x7fda89d13fd0>"
            ]
          },
          "metadata": {
            "tags": []
          },
          "execution_count": 4
        }
      ]
    },
    {
      "metadata": {
        "id": "XgQYu24Uf1YF",
        "colab_type": "code",
        "colab": {
          "base_uri": "https://localhost:8080/",
          "height": 67
        },
        "outputId": "3a15c48a-338e-4eca-fae5-7d23c2fe7168"
      },
      "cell_type": "code",
      "source": [
        "# Evaluate model\n",
        "scores = model.evaluate(X_test, Y_test)\n",
        "print(\"\\n%s: %.2f%%\" % (model.metrics_names[1], scores[1]*100))"
      ],
      "execution_count": 5,
      "outputs": [
        {
          "output_type": "stream",
          "text": [
            "77/77 [==============================] - 0s 108us/step\n",
            "\n",
            "acc: 70.13%\n"
          ],
          "name": "stdout"
        }
      ]
    }
  ]
}